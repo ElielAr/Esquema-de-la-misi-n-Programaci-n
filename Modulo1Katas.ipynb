{
 "cells": [
  {
   "cell_type": "code",
   "execution_count": 5,
   "metadata": {},
   "outputs": [
    {
     "name": "stdout",
     "output_type": "stream",
     "text": [
      "La Fecha de hoy es: 2022-02-10\n"
     ]
    }
   ],
   "source": [
    "from datetime import date\n",
    "\n",
    "print(\"La Fecha de hoy es: \" + str(date.today()))"
   ]
  },
  {
   "cell_type": "code",
   "execution_count": 9,
   "metadata": {},
   "outputs": [
    {
     "name": "stdout",
     "output_type": "stream",
     "text": [
      "11 parsec, is 35.877159999999996 AñosLuz\n"
     ]
    }
   ],
   "source": [
    "parsec = 11\n",
    "\n",
    "anosluz = 3.26156 * parsec\n",
    "\n",
    "print(str(parsec) + \" parsec, is \" + str(anosluz) + \" AñosLuz\")"
   ]
  }
 ],
 "metadata": {
  "interpreter": {
   "hash": "db44ca6d07e91faf23a3b331390c5ce41fd2ce09a904b25c6edbdff38063fbd5"
  },
  "kernelspec": {
   "display_name": "Python 3.9.6 64-bit",
   "language": "python",
   "name": "python3"
  },
  "language_info": {
   "codemirror_mode": {
    "name": "ipython",
    "version": 3
   },
   "file_extension": ".py",
   "mimetype": "text/x-python",
   "name": "python",
   "nbconvert_exporter": "python",
   "pygments_lexer": "ipython3",
   "version": "3.9.6"
  },
  "orig_nbformat": 4
 },
 "nbformat": 4,
 "nbformat_minor": 2
}
