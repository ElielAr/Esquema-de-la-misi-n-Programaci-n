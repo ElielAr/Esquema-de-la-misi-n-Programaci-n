{
 "cells": [
  {
   "cell_type": "code",
   "execution_count": 25,
   "metadata": {},
   "outputs": [
    {
     "ename": "AttributeError",
     "evalue": "'list' object has no attribute 'split'",
     "output_type": "error",
     "traceback": [
      "\u001b[1;31m---------------------------------------------------------------------------\u001b[0m",
      "\u001b[1;31mAttributeError\u001b[0m                            Traceback (most recent call last)",
      "\u001b[1;32mc:\\Users\\ElielAr\\Python Sin Fronteras\\cursopy\\Modulo4.ipynb Cell 1'\u001b[0m in \u001b[0;36m<module>\u001b[1;34m\u001b[0m\n\u001b[0;32m      <a href='vscode-notebook-cell:/c%3A/Users/ElielAr/Python%20Sin%20Fronteras/cursopy/Modulo4.ipynb#ch0000000?line=0'>1</a>\u001b[0m \u001b[39m#Ejercicio 1: Transformar cadenas\u001b[39;00m\n\u001b[0;32m      <a href='vscode-notebook-cell:/c%3A/Users/ElielAr/Python%20Sin%20Fronteras/cursopy/Modulo4.ipynb#ch0000000?line=1'>2</a>\u001b[0m \u001b[39m#dividiendo el texto\u001b[39;00m\n\u001b[1;32m----> <a href='vscode-notebook-cell:/c%3A/Users/ElielAr/Python%20Sin%20Fronteras/cursopy/Modulo4.ipynb#ch0000000?line=2'>3</a>\u001b[0m text_pal \u001b[39m=\u001b[39m text\u001b[39m.\u001b[39;49msplit(\u001b[39m'\u001b[39m\u001b[39m.\u001b[39m\u001b[39m'\u001b[39m)\n\u001b[0;32m      <a href='vscode-notebook-cell:/c%3A/Users/ElielAr/Python%20Sin%20Fronteras/cursopy/Modulo4.ipynb#ch0000000?line=4'>5</a>\u001b[0m text_pal\n\u001b[0;32m      <a href='vscode-notebook-cell:/c%3A/Users/ElielAr/Python%20Sin%20Fronteras/cursopy/Modulo4.ipynb#ch0000000?line=6'>7</a>\u001b[0m \u001b[39m#palabras clave\u001b[39;00m\n",
      "\u001b[1;31mAttributeError\u001b[0m: 'list' object has no attribute 'split'"
     ]
    }
   ],
   "source": [
    "#Ejercicio 1: Transformar cadenas\n",
    "#dividiendo el texto\n",
    "text_pal = text.split('.')\n",
    "\n",
    "text_pal\n",
    "\n",
    "#palabras clave\n",
    "palabras= [\"Interesting\", \"facts\", \"about\"]\n",
    "\n",
    "#ciclo para recorrer la cadena\n",
    "for sentence in text_pal:\n",
    "    for palabras in palabras:\n",
    "        if palabras in sentence:\n",
    "            print(sentence)\n",
    "            break\n",
    "\n",
    "#ciclo para cambiar \n",
    "for sentence in text_pal:\n",
    "    for palabras in palabras:\n",
    "        if palabras in sentence:\n",
    "            print(sentence.replace(' C', ' Celsius'))\n",
    "            break"
   ]
  },
  {
   "cell_type": "code",
   "execution_count": 26,
   "metadata": {},
   "outputs": [
    {
     "name": "stdout",
     "output_type": "stream",
     "text": [
      "-------------------------------------------------------------------------------- \n",
      "Nombre del planeta: Marte  \n",
      "Gravedad en Ganímedes: 1.4300000000000002 m/s2 \n",
      "\n",
      "-------------------------------------------------------------------------------- \n",
      "Nombre del planeta: Marte  \n",
      "Gravedad en Ganímedes: 1.4300000000000002 m/s2 \n",
      "\n",
      "\n",
      "Datos de Gravedad sobre: Atenea\n",
      "-------------------------------------------------------------------------------\n",
      "Nombre del planeta: Jupiter \n",
      "Gravedad en Atenea: 0.0025 m/s2\n",
      "\n",
      "\n",
      "Datos de Gravedad sobre: Atenea\n",
      "-------------------------------------------------------------------------------\n",
      "Nombre del planeta: Jupiter \n",
      "Gravedad en Atenea: 2.5 m/s2\n",
      "\n"
     ]
    }
   ],
   "source": [
    "#Ejercicio 2\n",
    "planeta = 'Marte '\n",
    "gravedad  = 0.00143\n",
    "nombre = 'Ganímedes'\n",
    "\n",
    "# Creamos el título\n",
    "title = f'Datos de Gravedad Sobre {nombre}'\n",
    "\n",
    "# Creamos la plantilla\n",
    "hechos = f\"\"\"{'-'*80} \n",
    "Nombre del planeta: {planeta} \n",
    "Gravedad en {nombre}: {gravedad * 1000} m/s2 \n",
    "\"\"\"\n",
    "\n",
    "# Unión de ambas cadenas\n",
    "template = f\"\"\"{title.title()} \n",
    "{hechos} \n",
    "\"\"\" \n",
    "print(hechos)\n",
    "\n",
    "# Nuevos datos muestra\n",
    "planeta = 'Jupiter '\n",
    "gravedad  = 0.00250\n",
    "nombre = 'Atenea'\n",
    "\n",
    "# Comprobamos la plantilla\n",
    "print(hechos)\n",
    "\n",
    "new_template = \"\"\"\n",
    "Datos de Gravedad sobre: {nombre}\n",
    "-------------------------------------------------------------------------------\n",
    "Nombre del planeta: {planeta}\n",
    "Gravedad en {nombre}: {gravedad} m/s2\n",
    "\"\"\"\n",
    "print(new_template.format(nombre=nombre, planeta=planeta, gravedad=gravedad))\n",
    "\n",
    "# Pista: print(nueva_plantilla.format(variables))\n",
    "print(new_template.format(nombre=nombre, planeta=planeta, gravedad=gravedad*1000))"
   ]
  }
 ],
 "metadata": {
  "interpreter": {
   "hash": "db44ca6d07e91faf23a3b331390c5ce41fd2ce09a904b25c6edbdff38063fbd5"
  },
  "kernelspec": {
   "display_name": "Python 3.9.6 64-bit",
   "language": "python",
   "name": "python3"
  },
  "language_info": {
   "codemirror_mode": {
    "name": "ipython",
    "version": 3
   },
   "file_extension": ".py",
   "mimetype": "text/x-python",
   "name": "python",
   "nbconvert_exporter": "python",
   "pygments_lexer": "ipython3",
   "version": "3.9.6"
  },
  "orig_nbformat": 4
 },
 "nbformat": 4,
 "nbformat_minor": 2
}
