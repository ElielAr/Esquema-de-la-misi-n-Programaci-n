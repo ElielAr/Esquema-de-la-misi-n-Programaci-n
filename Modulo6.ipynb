{
 "cells": [
  {
   "cell_type": "code",
   "execution_count": 6,
   "metadata": {},
   "outputs": [
    {
     "name": "stdout",
     "output_type": "stream",
     "text": [
      "Lista de planetas: ['Tierra', 'Venus', 'Marte', 'Jupiter', 'Saturno']\n",
      "En la lista hay: 5\n",
      "Se agrego a pluton: ['Tierra', 'Venus', 'Marte', 'Jupiter', 'Saturno', 'Pluton']\n",
      "Mostrando el ultimo planeta es:  Pluton\n"
     ]
    }
   ],
   "source": [
    "#Ejercio 1 crear lista\n",
    "\n",
    "planetas = ['Tierra', 'Venus', 'Marte', 'Jupiter', 'Saturno']\n",
    "\n",
    "print(\"Lista de planetas:\",planetas)\n",
    "\n",
    "#contando la logintud de la lista\n",
    "\n",
    "print(\"En la lista hay:\",len(planetas))\n",
    "\n",
    "\n",
    "#agregando a pluton\n",
    "planetas.append('Pluton')\n",
    "print(\"Se agrego a pluton:\", planetas)\n",
    "\n",
    "print(\"Mostrando el ultimo planeta es: \", planetas[5])\n",
    "\n",
    "\n"
   ]
  },
  {
   "cell_type": "code",
   "execution_count": 8,
   "metadata": {},
   "outputs": [
    {
     "ename": "ValueError",
     "evalue": "'t' is not in list",
     "output_type": "error",
     "traceback": [
      "\u001b[1;31m---------------------------------------------------------------------------\u001b[0m",
      "\u001b[1;31mValueError\u001b[0m                                Traceback (most recent call last)",
      "\u001b[1;32mc:\\Users\\ElielAr\\Python Sin Fronteras\\cursopy\\Modulo6.ipynb Cell 2'\u001b[0m in \u001b[0;36m<module>\u001b[1;34m\u001b[0m\n\u001b[0;32m      <a href='vscode-notebook-cell:/c%3A/Users/ElielAr/Python%20Sin%20Fronteras/cursopy/Modulo6.ipynb#ch0000001?line=4'>5</a>\u001b[0m planeta_x \u001b[39m=\u001b[39m \u001b[39minput\u001b[39m(\u001b[39m\"\u001b[39m\u001b[39mDame la primera letra de un planeta \u001b[39m\u001b[39m\"\u001b[39m)\n\u001b[0;32m      <a href='vscode-notebook-cell:/c%3A/Users/ElielAr/Python%20Sin%20Fronteras/cursopy/Modulo6.ipynb#ch0000001?line=6'>7</a>\u001b[0m \u001b[39m#buscando el planeta\u001b[39;00m\n\u001b[1;32m----> <a href='vscode-notebook-cell:/c%3A/Users/ElielAr/Python%20Sin%20Fronteras/cursopy/Modulo6.ipynb#ch0000001?line=7'>8</a>\u001b[0m planeta_search \u001b[39m=\u001b[39m planetas\u001b[39m.\u001b[39;49mindex(planeta_x)\n\u001b[0;32m     <a href='vscode-notebook-cell:/c%3A/Users/ElielAr/Python%20Sin%20Fronteras/cursopy/Modulo6.ipynb#ch0000001?line=9'>10</a>\u001b[0m \u001b[39mprint\u001b[39m(\u001b[39m\"\u001b[39m\u001b[39mLos planeta mas cerca al sol es:\u001b[39m\u001b[39m\"\u001b[39m \u001b[39m+\u001b[39m planeta_search)\n\u001b[0;32m     <a href='vscode-notebook-cell:/c%3A/Users/ElielAr/Python%20Sin%20Fronteras/cursopy/Modulo6.ipynb#ch0000001?line=10'>11</a>\u001b[0m \u001b[39mprint\u001b[39m(planetas[\u001b[39m0\u001b[39m:planeta_search])\n",
      "\u001b[1;31mValueError\u001b[0m: 't' is not in list"
     ]
    }
   ],
   "source": [
    "#Ejercicio2\n",
    "#lista de planetas\n",
    "planetas = ['Tierra', 'Venus', 'Marte', 'Jupiter', 'Saturno']\n",
    "\n",
    "planeta_x = input(\"Dame la primera letra de un planeta \")\n",
    "\n",
    "#buscando el planeta\n",
    "planeta_search = planetas.index(planeta_x)\n",
    "\n",
    "print(\"Los planeta mas cerca al sol es:\" + planeta_search)\n",
    "print(planetas[0:planeta_search])\n",
    "\n"
   ]
  }
 ],
 "metadata": {
  "interpreter": {
   "hash": "db44ca6d07e91faf23a3b331390c5ce41fd2ce09a904b25c6edbdff38063fbd5"
  },
  "kernelspec": {
   "display_name": "Python 3.9.6 64-bit",
   "language": "python",
   "name": "python3"
  },
  "language_info": {
   "codemirror_mode": {
    "name": "ipython",
    "version": 3
   },
   "file_extension": ".py",
   "mimetype": "text/x-python",
   "name": "python",
   "nbconvert_exporter": "python",
   "pygments_lexer": "ipython3",
   "version": "3.9.6"
  },
  "orig_nbformat": 4
 },
 "nbformat": 4,
 "nbformat_minor": 2
}
