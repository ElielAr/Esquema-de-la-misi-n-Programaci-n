{
 "cells": [
  {
   "cell_type": "code",
   "execution_count": 6,
   "metadata": {},
   "outputs": [
    {
     "name": "stdout",
     "output_type": "stream",
     "text": [
      "La distancia entre la tierra y jupiter es: 628949330\n",
      "La distancia en km es: 390577533.93\n"
     ]
    }
   ],
   "source": [
    "#Ejercicio 1\n",
    "# Crear variables para almacenar las dos distancias\n",
    "# ¡Asegúrate de quitar las comas!\n",
    "\n",
    "tierra = 149597870\n",
    "jupiter = 778547200\n",
    "\n",
    "distancia = jupiter - tierra\n",
    "\n",
    "dist_final = distancia * 0.621\n",
    "\n",
    "print ('La distancia entre la tierra y jupiter es:',distancia)\n",
    "\n",
    "print ('La distancia en km es:',dist_final)\n",
    "\n",
    "\n"
   ]
  },
  {
   "cell_type": "code",
   "execution_count": 7,
   "metadata": {},
   "outputs": [
    {
     "ename": "ValueError",
     "evalue": "invalid literal for int() with base 10: ''",
     "output_type": "error",
     "traceback": [
      "\u001b[1;31m---------------------------------------------------------------------------\u001b[0m",
      "\u001b[1;31mValueError\u001b[0m                                Traceback (most recent call last)",
      "\u001b[1;32mc:\\Users\\ElielAr\\Python Sin Fronteras\\cursopy\\Modulo5.ipynb Cell 2'\u001b[0m in \u001b[0;36m<module>\u001b[1;34m\u001b[0m\n\u001b[0;32m      <a href='vscode-notebook-cell:/c%3A/Users/ElielAr/Python%20Sin%20Fronteras/cursopy/Modulo5.ipynb#ch0000001?line=4'>5</a>\u001b[0m planeta_dos \u001b[39m=\u001b[39m \u001b[39minput\u001b[39m (\u001b[39m\"\u001b[39m\u001b[39mDame la distancia del Planeta2 al sol:\u001b[39m\u001b[39m\"\u001b[39m)\n\u001b[0;32m      <a href='vscode-notebook-cell:/c%3A/Users/ElielAr/Python%20Sin%20Fronteras/cursopy/Modulo5.ipynb#ch0000001?line=6'>7</a>\u001b[0m \u001b[39m# Convierte las cadenas de ambos planetas a números enteros\u001b[39;00m\n\u001b[1;32m----> <a href='vscode-notebook-cell:/c%3A/Users/ElielAr/Python%20Sin%20Fronteras/cursopy/Modulo5.ipynb#ch0000001?line=7'>8</a>\u001b[0m planeta_uno \u001b[39m=\u001b[39m \u001b[39mint\u001b[39;49m(planeta_uno)\n\u001b[0;32m      <a href='vscode-notebook-cell:/c%3A/Users/ElielAr/Python%20Sin%20Fronteras/cursopy/Modulo5.ipynb#ch0000001?line=8'>9</a>\u001b[0m planeta_dos \u001b[39m=\u001b[39m \u001b[39mint\u001b[39m(planeta_dos)\n\u001b[0;32m     <a href='vscode-notebook-cell:/c%3A/Users/ElielAr/Python%20Sin%20Fronteras/cursopy/Modulo5.ipynb#ch0000001?line=10'>11</a>\u001b[0m \u001b[39m#Calcular y determinar el valor absoluto\u001b[39;00m\n",
      "\u001b[1;31mValueError\u001b[0m: invalid literal for int() with base 10: ''"
     ]
    }
   ],
   "source": [
    "#Ejercicio 2\n",
    "#convierte cadenas en números y usa valores absolutos\n",
    "\n",
    "planeta_uno = input (\"Dame la distancia del Planeta1 al sol:\")\n",
    "planeta_dos = input (\"Dame la distancia del Planeta2 al sol:\")\n",
    "\n",
    "# Convierte las cadenas de ambos planetas\n",
    "#  a números enteros\n",
    "planeta_uno = int(planeta_uno)\n",
    "planeta_dos = int(planeta_dos)\n",
    "\n",
    "#Calcular y determinar el valor absoluto\n",
    "\n",
    "dist_final = planeta_dos - planeta_uno\n",
    "print(\"la distancia es >\", dist_final)\n",
    "\n",
    "#convertiendo de km a millas\n",
    "\n",
    "dist_millas = dist_final * 0.621\n",
    "print(\"La distancia en millas es :\", dist_millas)\n",
    "\n"
   ]
  }
 ],
 "metadata": {
  "interpreter": {
   "hash": "db44ca6d07e91faf23a3b331390c5ce41fd2ce09a904b25c6edbdff38063fbd5"
  },
  "kernelspec": {
   "display_name": "Python 3.9.6 64-bit",
   "language": "python",
   "name": "python3"
  },
  "language_info": {
   "codemirror_mode": {
    "name": "ipython",
    "version": 3
   },
   "file_extension": ".py",
   "mimetype": "text/x-python",
   "name": "python",
   "nbconvert_exporter": "python",
   "pygments_lexer": "ipython3",
   "version": "3.9.6"
  },
  "orig_nbformat": 4
 },
 "nbformat": 4,
 "nbformat_minor": 2
}
